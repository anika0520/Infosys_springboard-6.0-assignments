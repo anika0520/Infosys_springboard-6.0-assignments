{
  "nbformat": 4,
  "nbformat_minor": 0,
  "metadata": {
    "colab": {
      "provenance": [],
      "authorship_tag": "ABX9TyPbjkIue/203h3fe3VF+pU/",
      "include_colab_link": true
    },
    "kernelspec": {
      "name": "python3",
      "display_name": "Python 3"
    },
    "language_info": {
      "name": "python"
    }
  },
  "cells": [
    {
      "cell_type": "markdown",
      "metadata": {
        "id": "view-in-github",
        "colab_type": "text"
      },
      "source": [
        "<a href=\"https://colab.research.google.com/github/anika0520/Infosys_springboard-6.0-assignments/blob/main/Agrobot_chat.ipynb\" target=\"_parent\"><img src=\"https://colab.research.google.com/assets/colab-badge.svg\" alt=\"Open In Colab\"/></a>"
      ]
    },
    {
      "cell_type": "code",
      "execution_count": 2,
      "metadata": {
        "colab": {
          "base_uri": "https://localhost:8080/"
        },
        "id": "RPEp9Hk4RMSw",
        "outputId": "8ca2d21b-cf49-4ad4-d940-50525d603c31"
      },
      "outputs": [
        {
          "output_type": "stream",
          "name": "stdout",
          "text": [
            "Requirement already satisfied: pandas in /usr/local/lib/python3.12/dist-packages (2.2.2)\n",
            "Requirement already satisfied: tensorflow in /usr/local/lib/python3.12/dist-packages (2.19.0)\n",
            "Requirement already satisfied: numpy in /usr/local/lib/python3.12/dist-packages (2.0.2)\n",
            "Requirement already satisfied: python-dateutil>=2.8.2 in /usr/local/lib/python3.12/dist-packages (from pandas) (2.9.0.post0)\n",
            "Requirement already satisfied: pytz>=2020.1 in /usr/local/lib/python3.12/dist-packages (from pandas) (2025.2)\n",
            "Requirement already satisfied: tzdata>=2022.7 in /usr/local/lib/python3.12/dist-packages (from pandas) (2025.2)\n",
            "Requirement already satisfied: absl-py>=1.0.0 in /usr/local/lib/python3.12/dist-packages (from tensorflow) (1.4.0)\n",
            "Requirement already satisfied: astunparse>=1.6.0 in /usr/local/lib/python3.12/dist-packages (from tensorflow) (1.6.3)\n",
            "Requirement already satisfied: flatbuffers>=24.3.25 in /usr/local/lib/python3.12/dist-packages (from tensorflow) (25.2.10)\n",
            "Requirement already satisfied: gast!=0.5.0,!=0.5.1,!=0.5.2,>=0.2.1 in /usr/local/lib/python3.12/dist-packages (from tensorflow) (0.6.0)\n",
            "Requirement already satisfied: google-pasta>=0.1.1 in /usr/local/lib/python3.12/dist-packages (from tensorflow) (0.2.0)\n",
            "Requirement already satisfied: libclang>=13.0.0 in /usr/local/lib/python3.12/dist-packages (from tensorflow) (18.1.1)\n",
            "Requirement already satisfied: opt-einsum>=2.3.2 in /usr/local/lib/python3.12/dist-packages (from tensorflow) (3.4.0)\n",
            "Requirement already satisfied: packaging in /usr/local/lib/python3.12/dist-packages (from tensorflow) (25.0)\n",
            "Requirement already satisfied: protobuf!=4.21.0,!=4.21.1,!=4.21.2,!=4.21.3,!=4.21.4,!=4.21.5,<6.0.0dev,>=3.20.3 in /usr/local/lib/python3.12/dist-packages (from tensorflow) (5.29.5)\n",
            "Requirement already satisfied: requests<3,>=2.21.0 in /usr/local/lib/python3.12/dist-packages (from tensorflow) (2.32.4)\n",
            "Requirement already satisfied: setuptools in /usr/local/lib/python3.12/dist-packages (from tensorflow) (75.2.0)\n",
            "Requirement already satisfied: six>=1.12.0 in /usr/local/lib/python3.12/dist-packages (from tensorflow) (1.17.0)\n",
            "Requirement already satisfied: termcolor>=1.1.0 in /usr/local/lib/python3.12/dist-packages (from tensorflow) (3.1.0)\n",
            "Requirement already satisfied: typing-extensions>=3.6.6 in /usr/local/lib/python3.12/dist-packages (from tensorflow) (4.15.0)\n",
            "Requirement already satisfied: wrapt>=1.11.0 in /usr/local/lib/python3.12/dist-packages (from tensorflow) (1.17.3)\n",
            "Requirement already satisfied: grpcio<2.0,>=1.24.3 in /usr/local/lib/python3.12/dist-packages (from tensorflow) (1.75.0)\n",
            "Requirement already satisfied: tensorboard~=2.19.0 in /usr/local/lib/python3.12/dist-packages (from tensorflow) (2.19.0)\n",
            "Requirement already satisfied: keras>=3.5.0 in /usr/local/lib/python3.12/dist-packages (from tensorflow) (3.10.0)\n",
            "Requirement already satisfied: h5py>=3.11.0 in /usr/local/lib/python3.12/dist-packages (from tensorflow) (3.14.0)\n",
            "Requirement already satisfied: ml-dtypes<1.0.0,>=0.5.1 in /usr/local/lib/python3.12/dist-packages (from tensorflow) (0.5.3)\n",
            "Requirement already satisfied: wheel<1.0,>=0.23.0 in /usr/local/lib/python3.12/dist-packages (from astunparse>=1.6.0->tensorflow) (0.45.1)\n",
            "Requirement already satisfied: rich in /usr/local/lib/python3.12/dist-packages (from keras>=3.5.0->tensorflow) (13.9.4)\n",
            "Requirement already satisfied: namex in /usr/local/lib/python3.12/dist-packages (from keras>=3.5.0->tensorflow) (0.1.0)\n",
            "Requirement already satisfied: optree in /usr/local/lib/python3.12/dist-packages (from keras>=3.5.0->tensorflow) (0.17.0)\n",
            "Requirement already satisfied: charset_normalizer<4,>=2 in /usr/local/lib/python3.12/dist-packages (from requests<3,>=2.21.0->tensorflow) (3.4.3)\n",
            "Requirement already satisfied: idna<4,>=2.5 in /usr/local/lib/python3.12/dist-packages (from requests<3,>=2.21.0->tensorflow) (3.10)\n",
            "Requirement already satisfied: urllib3<3,>=1.21.1 in /usr/local/lib/python3.12/dist-packages (from requests<3,>=2.21.0->tensorflow) (2.5.0)\n",
            "Requirement already satisfied: certifi>=2017.4.17 in /usr/local/lib/python3.12/dist-packages (from requests<3,>=2.21.0->tensorflow) (2025.8.3)\n",
            "Requirement already satisfied: markdown>=2.6.8 in /usr/local/lib/python3.12/dist-packages (from tensorboard~=2.19.0->tensorflow) (3.9)\n",
            "Requirement already satisfied: tensorboard-data-server<0.8.0,>=0.7.0 in /usr/local/lib/python3.12/dist-packages (from tensorboard~=2.19.0->tensorflow) (0.7.2)\n",
            "Requirement already satisfied: werkzeug>=1.0.1 in /usr/local/lib/python3.12/dist-packages (from tensorboard~=2.19.0->tensorflow) (3.1.3)\n",
            "Requirement already satisfied: MarkupSafe>=2.1.1 in /usr/local/lib/python3.12/dist-packages (from werkzeug>=1.0.1->tensorboard~=2.19.0->tensorflow) (3.0.2)\n",
            "Requirement already satisfied: markdown-it-py>=2.2.0 in /usr/local/lib/python3.12/dist-packages (from rich->keras>=3.5.0->tensorflow) (4.0.0)\n",
            "Requirement already satisfied: pygments<3.0.0,>=2.13.0 in /usr/local/lib/python3.12/dist-packages (from rich->keras>=3.5.0->tensorflow) (2.19.2)\n",
            "Requirement already satisfied: mdurl~=0.1 in /usr/local/lib/python3.12/dist-packages (from markdown-it-py>=2.2.0->rich->keras>=3.5.0->tensorflow) (0.1.2)\n"
          ]
        }
      ],
      "source": [
        "!pip install pandas tensorflow numpy"
      ]
    },
    {
      "cell_type": "code",
      "source": [
        "import tensorflow as tf\n",
        "import numpy as np\n",
        "from sklearn.preprocessing import LabelEncoder\n",
        "from sklearn.model_selection import train_test_split"
      ],
      "metadata": {
        "id": "t-ZEXbhGRST4"
      },
      "execution_count": 4,
      "outputs": []
    },
    {
      "cell_type": "code",
      "source": [
        "disease_data = {\n",
        "    \"Tomato Blight\": {\"symptoms\": [\"brown spots\", \"yellowing leaves\", \"wilting\"], \"prevention\": \"Use resistant varieties, remove infected plants, and apply fungicide.\"},\n",
        "    \"Powdery Mildew\": {\"symptoms\": [\"white powdery spots\", \"leaf curling\", \"stunted growth\"], \"prevention\": \"Ensure proper spacing, avoid overhead watering, and use fungicide.\"},\n",
        "    \"Leaf Spot\": {\"symptoms\": [\"dark spots\", \"yellow halos\", \"leaf drop\"], \"prevention\": \"Remove infected leaves, rotate crops, and use copper-based sprays.\"},\n",
        "    \"Rust\": {\"symptoms\": [\"orange pustules\", \"yellow patches\", \"leaf drop\"], \"prevention\": \"Use resistant varieties, remove infected leaves, and apply fungicide.\"},\n",
        "    \"Downy Mildew\": {\"symptoms\": [\"yellow angular spots\", \"white fuzzy growth on undersides\", \"leaf curling\"], \"prevention\": \"Improve air circulation, avoid overhead watering, and use fungicide.\"},\n",
        "    \"Late Blight\": {\"symptoms\": [\"dark, water-soaked lesions\", \"rapid wilting\", \"brown streaks on stems\"], \"prevention\": \"Remove infected plants, use resistant varieties, and apply fungicide.\"},\n",
        "    \"Early Blight\": {\"symptoms\": [\"concentric rings on leaves\", \"yellowing of lower leaves\", \"premature leaf drop\"], \"prevention\": \"Rotate crops, remove infected debris, and use fungicide.\"},\n",
        "    \"Anthracnose\": {\"symptoms\": [\"sunken lesions on fruit\", \"dark streaks on stems\", \"premature fruit drop\"], \"prevention\": \"Remove infected plants, use resistant varieties, and apply fungicide.\"},\n",
        "    \"Bacterial Wilt\": {\"symptoms\": [\"wilting of leaves\", \"yellowing of veins\", \"collapse of plant\"], \"prevention\": \"Use resistant varieties, practice crop rotation, and manage insect vectors.\"},\n",
        "    \"Fusarium Wilt\": {\"symptoms\": [\"yellowing of leaves\", \"vascular discoloration\", \"stunted growth\"], \"prevention\": \"Use resistant varieties, practice crop rotation, and improve soil drainage.\"},\n",
        "    \"Verticillium Wilt\": {\"symptoms\": [\"yellowing of leaves\", \"wilting of branches\", \"vascular discoloration\"], \"prevention\": \"Use resistant varieties, practice crop rotation, and improve soil drainage.\"},\n",
        "    \"Cercospora Leaf Spot\": {\"symptoms\": [\"small, round lesions with gray centers\", \"yellow halos\", \"premature leaf drop\"], \"prevention\": \"Remove infected leaves, rotate crops, and use fungicide.\"},\n",
        "    \"Septoria Leaf Spot\": {\"symptoms\": [\"small, water-soaked spots\", \"yellow halos\", \"leaf drop\"], \"prevention\": \"Remove infected leaves, rotate crops, and use fungicide.\"},\n",
        "    \"Damping-Off\": {\"symptoms\": [\"seedling collapse\", \"rotting at soil line\", \"yellowing of leaves\"], \"prevention\": \"Use sterile soil, avoid overwatering, and improve air circulation.\"},\n",
        "    \"Blossom End Rot\": {\"symptoms\": [\"sunken, water-soaked spots on fruit\", \"blackening of tissue\", \"premature fruit drop\"], \"prevention\": \"Maintain consistent watering, use calcium-rich fertilizers, and avoid over-fertilization.\"},\n",
        "\n",
        "    \"Tomato Mosaic Virus\": {\"symptoms\": [\"mosaic pattern on leaves\", \"yellowing of veins\", \"stunted growth\"], \"prevention\": \"Use resistant varieties, remove infected plants, and control aphid populations.\"},\n",
        "    \"Cucumber Mosaic Virus\": {\"symptoms\": [\"mosaic pattern on leaves\", \"leaf curling\", \"yellowing veins\"], \"prevention\": \"Use resistant varieties, remove infected plants, and control aphids.\"},\n",
        "    \"Potato Virus Y\": {\"symptoms\": [\"leaf mottling\", \"stunted growth\", \"yellowing leaves\"], \"prevention\": \"Use certified seeds, control aphids, and remove infected plants.\"},\n",
        "    \"Banana Bacterial Wilt\": {\"symptoms\": [\"yellowing leaves\", \"brown streaks\", \"plant collapse\"], \"prevention\": \"Remove infected plants, disinfect tools, control insect vectors.\"},\n",
        "    \"Panama Disease\": {\"symptoms\": [\"yellowing leaves\", \"stunted growth\", \"wilting\"], \"prevention\": \"Use resistant varieties, remove infected plants, improve soil drainage.\"},\n",
        "    \"Apple Scab\": {\"symptoms\": [\"brown spots on leaves\", \"fruit lesions\", \"premature leaf drop\"], \"prevention\": \"Prune infected branches, apply fungicides, remove fallen leaves.\"},\n",
        "    \"Apple Rot\": {\"symptoms\": [\"dark lesions on fruit\", \"softening of fruit\", \"premature drop\"], \"prevention\": \"Remove affected fruits, apply fungicides, maintain orchard hygiene.\"},\n",
        "    \"Grapes Black Rot\": {\"symptoms\": [\"black spots on leaves\", \"fruit mummification\", \"leaf drop\"], \"prevention\": \"Apply fungicides, prune infected areas, remove debris.\"},\n",
        "    \"Soybean Mosaic Virus\": {\"symptoms\": [\"yellowing leaves\", \"leaf distortion\", \"stunted growth\"], \"prevention\": \"Use resistant varieties, remove infected plants, control aphids.\"},\n",
        "    \"Corn Stunt Virus\": {\"symptoms\": [\"stunted growth\", \"yellow leaves\", \"reduced yield\"], \"prevention\": \"Remove infected plants, control leafhopper insects.\"},\n",
        "    \"Wheat Stem Rust\": {\"symptoms\": [\"red pustules on leaves\", \"yellowing streaks\", \"premature leaf death\"], \"prevention\": \"Use resistant varieties, fungicide application, rotate crops.\"},\n",
        "    \"Wheat Yellow Rust\": {\"symptoms\": [\"yellow streaks on leaves\", \"necrotic lesions\", \"reduced yield\"], \"prevention\": \"Use resistant varieties, apply fungicides, remove debris.\"},\n",
        "    \"Cabbage Worms\": {\"symptoms\": [\"holes in leaves\", \"chewed edges\", \"stunted growth\"], \"prevention\": \"Handpick worms, apply Bacillus thuringiensis (Bt) spray, remove affected leaves.\"},\n",
        "    \"Root Knot Nematodes\": {\"symptoms\": [\"root galls\", \"wilting plants\", \"stunted growth\"], \"prevention\": \"Use resistant varieties, rotate crops, improve soil drainage.\"},\n",
        "    \"Aphid Infestation\": {\"symptoms\": [\"curling leaves\", \"sticky residue\", \"yellowing leaves\"], \"prevention\": \"Use insecticidal soap, introduce natural predators, remove infested plants.\"},\n",
        "    \"Spider Mite\": {\"symptoms\": [\"stippling on leaves\", \"yellowing\", \"webbing on plants\"], \"prevention\": \"Apply miticides, introduce predators, maintain humidity.\"},\n",
        "    \"Thrips\": {\"symptoms\": [\"silvering leaves\", \"yellowing\", \"deformed flowers\"], \"prevention\": \"Use insecticidal soap, introduce predators, remove affected plants.\"},\n",
        "    \"Tomato Hornworm\": {\"symptoms\": [\"chewed leaves\", \"frass on leaves\", \"defoliation\"], \"prevention\": \"Handpick larvae, use insecticidal soap, remove infested plants.\"},\n",
        "    \"Colorado Potato Beetle\": {\"symptoms\": [\"chewed leaves\", \"defoliation\", \"yellowing\"], \"prevention\": \"Use row covers, handpick beetles, practice crop rotation.\"},\n",
        "    \"Leaf Miner\": {\"symptoms\": [\"tunnels in leaves\", \"yellowing leaves\", \"leaf drop\"], \"prevention\": \"Remove infested leaves, use insecticidal soap, rotate crops.\"}\n",
        "}\n"
      ],
      "metadata": {
        "id": "Snjpx1lFRWlo"
      },
      "execution_count": 5,
      "outputs": []
    },
    {
      "cell_type": "code",
      "source": [
        "X_text = []\n",
        "y_labels = []\n",
        "for disease, info in disease_data.items():\n",
        "    symptoms = info['symptoms']\n",
        "    for s in symptoms:\n",
        "        variations = [\n",
        "            s,\n",
        "            s.lower(),\n",
        "            s.upper(),\n",
        "            \"Noticeable \" + s,\n",
        "            s + \" observed\",\n",
        "            \"Symptoms: \" + s\n",
        "        ]\n",
        "        for v in variations:\n",
        "            X_text.append(v)\n",
        "            y_labels.append(disease)"
      ],
      "metadata": {
        "id": "Fjr_ieHsRY5I"
      },
      "execution_count": 6,
      "outputs": []
    },
    {
      "cell_type": "code",
      "source": [
        "tok = tf.keras.preprocessing.text.Tokenizer(oov_token=\"<OOV>\")\n",
        "tok.fit_on_texts(X_text)\n",
        "X_seq = tf.keras.preprocessing.sequence.pad_sequences(tok.texts_to_sequences(X_text), maxlen=10)\n"
      ],
      "metadata": {
        "id": "le8gK61rRagU"
      },
      "execution_count": 7,
      "outputs": []
    },
    {
      "cell_type": "code",
      "source": [
        "le = LabelEncoder()\n",
        "y = le.fit_transform(y_labels)"
      ],
      "metadata": {
        "id": "RYW2CU2bRbry"
      },
      "execution_count": 8,
      "outputs": []
    },
    {
      "cell_type": "code",
      "source": [
        "Xt, Xv, Yt, Yv = train_test_split(X_seq, y, test_size=0.2, random_state=42, stratify=y)"
      ],
      "metadata": {
        "id": "ZS1G42liRc0n"
      },
      "execution_count": 9,
      "outputs": []
    },
    {
      "cell_type": "code",
      "source": [
        "model = tf.keras.Sequential([\n",
        "    tf.keras.layers.Embedding(input_dim=len(tok.word_index)+1, output_dim=32, input_length=10),\n",
        "    tf.keras.layers.GlobalAveragePooling1D(),\n",
        "    tf.keras.layers.Dense(64, activation='relu'),\n",
        "    tf.keras.layers.Dropout(0.3),\n",
        "    tf.keras.layers.Dense(32, activation='relu'),\n",
        "    tf.keras.layers.Dense(len(le.classes_), activation='softmax')\n",
        "])"
      ],
      "metadata": {
        "colab": {
          "base_uri": "https://localhost:8080/"
        },
        "id": "hefzM3h4ReM6",
        "outputId": "789c4601-125b-4993-e8a6-6fe5baa84849"
      },
      "execution_count": 10,
      "outputs": [
        {
          "output_type": "stream",
          "name": "stderr",
          "text": [
            "/usr/local/lib/python3.12/dist-packages/keras/src/layers/core/embedding.py:97: UserWarning: Argument `input_length` is deprecated. Just remove it.\n",
            "  warnings.warn(\n"
          ]
        }
      ]
    },
    {
      "cell_type": "code",
      "source": [
        "model.compile(optimizer='adam', loss='sparse_categorical_crossentropy', metrics=['accuracy'])"
      ],
      "metadata": {
        "id": "ET-TH44VRfHD"
      },
      "execution_count": 11,
      "outputs": []
    },
    {
      "cell_type": "code",
      "source": [
        "model.fit(Xt, Yt, validation_data=(Xv, Yv), epochs=50, batch_size=16, verbose=1)\n"
      ],
      "metadata": {
        "colab": {
          "base_uri": "https://localhost:8080/"
        },
        "id": "jaMinPnvRgKy",
        "outputId": "20d7596e-55c2-4538-9175-675a9954cb89"
      },
      "execution_count": 12,
      "outputs": [
        {
          "output_type": "stream",
          "name": "stdout",
          "text": [
            "Epoch 1/50\n",
            "\u001b[1m32/32\u001b[0m \u001b[32m━━━━━━━━━━━━━━━━━━━━\u001b[0m\u001b[37m\u001b[0m \u001b[1m2s\u001b[0m 11ms/step - accuracy: 0.0261 - loss: 3.5562 - val_accuracy: 0.0238 - val_loss: 3.5549\n",
            "Epoch 2/50\n",
            "\u001b[1m32/32\u001b[0m \u001b[32m━━━━━━━━━━━━━━━━━━━━\u001b[0m\u001b[37m\u001b[0m \u001b[1m0s\u001b[0m 5ms/step - accuracy: 0.0491 - loss: 3.5520 - val_accuracy: 0.0397 - val_loss: 3.5523\n",
            "Epoch 3/50\n",
            "\u001b[1m32/32\u001b[0m \u001b[32m━━━━━━━━━━━━━━━━━━━━\u001b[0m\u001b[37m\u001b[0m \u001b[1m0s\u001b[0m 5ms/step - accuracy: 0.0226 - loss: 3.5500 - val_accuracy: 0.0238 - val_loss: 3.5470\n",
            "Epoch 4/50\n",
            "\u001b[1m32/32\u001b[0m \u001b[32m━━━━━━━━━━━━━━━━━━━━\u001b[0m\u001b[37m\u001b[0m \u001b[1m0s\u001b[0m 5ms/step - accuracy: 0.0442 - loss: 3.5418 - val_accuracy: 0.0635 - val_loss: 3.5379\n",
            "Epoch 5/50\n",
            "\u001b[1m32/32\u001b[0m \u001b[32m━━━━━━━━━━━━━━━━━━━━\u001b[0m\u001b[37m\u001b[0m \u001b[1m0s\u001b[0m 5ms/step - accuracy: 0.1002 - loss: 3.5273 - val_accuracy: 0.0873 - val_loss: 3.5219\n",
            "Epoch 6/50\n",
            "\u001b[1m32/32\u001b[0m \u001b[32m━━━━━━━━━━━━━━━━━━━━\u001b[0m\u001b[37m\u001b[0m \u001b[1m0s\u001b[0m 5ms/step - accuracy: 0.0934 - loss: 3.5123 - val_accuracy: 0.1190 - val_loss: 3.4877\n",
            "Epoch 7/50\n",
            "\u001b[1m32/32\u001b[0m \u001b[32m━━━━━━━━━━━━━━━━━━━━\u001b[0m\u001b[37m\u001b[0m \u001b[1m0s\u001b[0m 5ms/step - accuracy: 0.1445 - loss: 3.4622 - val_accuracy: 0.0714 - val_loss: 3.4253\n",
            "Epoch 8/50\n",
            "\u001b[1m32/32\u001b[0m \u001b[32m━━━━━━━━━━━━━━━━━━━━\u001b[0m\u001b[37m\u001b[0m \u001b[1m0s\u001b[0m 5ms/step - accuracy: 0.1246 - loss: 3.3761 - val_accuracy: 0.1746 - val_loss: 3.2981\n",
            "Epoch 9/50\n",
            "\u001b[1m32/32\u001b[0m \u001b[32m━━━━━━━━━━━━━━━━━━━━\u001b[0m\u001b[37m\u001b[0m \u001b[1m0s\u001b[0m 5ms/step - accuracy: 0.1331 - loss: 3.2249 - val_accuracy: 0.1349 - val_loss: 3.1294\n",
            "Epoch 10/50\n",
            "\u001b[1m32/32\u001b[0m \u001b[32m━━━━━━━━━━━━━━━━━━━━\u001b[0m\u001b[37m\u001b[0m \u001b[1m0s\u001b[0m 5ms/step - accuracy: 0.1297 - loss: 3.0434 - val_accuracy: 0.1667 - val_loss: 2.9598\n",
            "Epoch 11/50\n",
            "\u001b[1m32/32\u001b[0m \u001b[32m━━━━━━━━━━━━━━━━━━━━\u001b[0m\u001b[37m\u001b[0m \u001b[1m0s\u001b[0m 5ms/step - accuracy: 0.1657 - loss: 2.9005 - val_accuracy: 0.2381 - val_loss: 2.8312\n",
            "Epoch 12/50\n",
            "\u001b[1m32/32\u001b[0m \u001b[32m━━━━━━━━━━━━━━━━━━━━\u001b[0m\u001b[37m\u001b[0m \u001b[1m0s\u001b[0m 5ms/step - accuracy: 0.2018 - loss: 2.7660 - val_accuracy: 0.2143 - val_loss: 2.7113\n",
            "Epoch 13/50\n",
            "\u001b[1m32/32\u001b[0m \u001b[32m━━━━━━━━━━━━━━━━━━━━\u001b[0m\u001b[37m\u001b[0m \u001b[1m0s\u001b[0m 5ms/step - accuracy: 0.2756 - loss: 2.5907 - val_accuracy: 0.2222 - val_loss: 2.5879\n",
            "Epoch 14/50\n",
            "\u001b[1m32/32\u001b[0m \u001b[32m━━━━━━━━━━━━━━━━━━━━\u001b[0m\u001b[37m\u001b[0m \u001b[1m0s\u001b[0m 5ms/step - accuracy: 0.3061 - loss: 2.4571 - val_accuracy: 0.3651 - val_loss: 2.5146\n",
            "Epoch 15/50\n",
            "\u001b[1m32/32\u001b[0m \u001b[32m━━━━━━━━━━━━━━━━━━━━\u001b[0m\u001b[37m\u001b[0m \u001b[1m0s\u001b[0m 5ms/step - accuracy: 0.2830 - loss: 2.3761 - val_accuracy: 0.3413 - val_loss: 2.4317\n",
            "Epoch 16/50\n",
            "\u001b[1m32/32\u001b[0m \u001b[32m━━━━━━━━━━━━━━━━━━━━\u001b[0m\u001b[37m\u001b[0m \u001b[1m0s\u001b[0m 5ms/step - accuracy: 0.3732 - loss: 2.2447 - val_accuracy: 0.3413 - val_loss: 2.3477\n",
            "Epoch 17/50\n",
            "\u001b[1m32/32\u001b[0m \u001b[32m━━━━━━━━━━━━━━━━━━━━\u001b[0m\u001b[37m\u001b[0m \u001b[1m0s\u001b[0m 5ms/step - accuracy: 0.3183 - loss: 2.2335 - val_accuracy: 0.3968 - val_loss: 2.2696\n",
            "Epoch 18/50\n",
            "\u001b[1m32/32\u001b[0m \u001b[32m━━━━━━━━━━━━━━━━━━━━\u001b[0m\u001b[37m\u001b[0m \u001b[1m0s\u001b[0m 5ms/step - accuracy: 0.3405 - loss: 2.1310 - val_accuracy: 0.3968 - val_loss: 2.1987\n",
            "Epoch 19/50\n",
            "\u001b[1m32/32\u001b[0m \u001b[32m━━━━━━━━━━━━━━━━━━━━\u001b[0m\u001b[37m\u001b[0m \u001b[1m0s\u001b[0m 5ms/step - accuracy: 0.3458 - loss: 2.1015 - val_accuracy: 0.3889 - val_loss: 2.1613\n",
            "Epoch 20/50\n",
            "\u001b[1m32/32\u001b[0m \u001b[32m━━━━━━━━━━━━━━━━━━━━\u001b[0m\u001b[37m\u001b[0m \u001b[1m0s\u001b[0m 5ms/step - accuracy: 0.3823 - loss: 2.0075 - val_accuracy: 0.3810 - val_loss: 2.0634\n",
            "Epoch 21/50\n",
            "\u001b[1m32/32\u001b[0m \u001b[32m━━━━━━━━━━━━━━━━━━━━\u001b[0m\u001b[37m\u001b[0m \u001b[1m0s\u001b[0m 5ms/step - accuracy: 0.3607 - loss: 1.9830 - val_accuracy: 0.4365 - val_loss: 2.0218\n",
            "Epoch 22/50\n",
            "\u001b[1m32/32\u001b[0m \u001b[32m━━━━━━━━━━━━━━━━━━━━\u001b[0m\u001b[37m\u001b[0m \u001b[1m0s\u001b[0m 5ms/step - accuracy: 0.3973 - loss: 1.9135 - val_accuracy: 0.4444 - val_loss: 2.0046\n",
            "Epoch 23/50\n",
            "\u001b[1m32/32\u001b[0m \u001b[32m━━━━━━━━━━━━━━━━━━━━\u001b[0m\u001b[37m\u001b[0m \u001b[1m0s\u001b[0m 5ms/step - accuracy: 0.4051 - loss: 1.8548 - val_accuracy: 0.4365 - val_loss: 1.9221\n",
            "Epoch 24/50\n",
            "\u001b[1m32/32\u001b[0m \u001b[32m━━━━━━━━━━━━━━━━━━━━\u001b[0m\u001b[37m\u001b[0m \u001b[1m0s\u001b[0m 5ms/step - accuracy: 0.4260 - loss: 1.8567 - val_accuracy: 0.4444 - val_loss: 1.9220\n",
            "Epoch 25/50\n",
            "\u001b[1m32/32\u001b[0m \u001b[32m━━━━━━━━━━━━━━━━━━━━\u001b[0m\u001b[37m\u001b[0m \u001b[1m0s\u001b[0m 5ms/step - accuracy: 0.4234 - loss: 1.7715 - val_accuracy: 0.4683 - val_loss: 1.8600\n",
            "Epoch 26/50\n",
            "\u001b[1m32/32\u001b[0m \u001b[32m━━━━━━━━━━━━━━━━━━━━\u001b[0m\u001b[37m\u001b[0m \u001b[1m0s\u001b[0m 5ms/step - accuracy: 0.4208 - loss: 1.8129 - val_accuracy: 0.4365 - val_loss: 1.8400\n",
            "Epoch 27/50\n",
            "\u001b[1m32/32\u001b[0m \u001b[32m━━━━━━━━━━━━━━━━━━━━\u001b[0m\u001b[37m\u001b[0m \u001b[1m0s\u001b[0m 5ms/step - accuracy: 0.4386 - loss: 1.6920 - val_accuracy: 0.5079 - val_loss: 1.7803\n",
            "Epoch 28/50\n",
            "\u001b[1m32/32\u001b[0m \u001b[32m━━━━━━━━━━━━━━━━━━━━\u001b[0m\u001b[37m\u001b[0m \u001b[1m0s\u001b[0m 5ms/step - accuracy: 0.4458 - loss: 1.7337 - val_accuracy: 0.4603 - val_loss: 1.7936\n",
            "Epoch 29/50\n",
            "\u001b[1m32/32\u001b[0m \u001b[32m━━━━━━━━━━━━━━━━━━━━\u001b[0m\u001b[37m\u001b[0m \u001b[1m0s\u001b[0m 5ms/step - accuracy: 0.4885 - loss: 1.6510 - val_accuracy: 0.5238 - val_loss: 1.7176\n",
            "Epoch 30/50\n",
            "\u001b[1m32/32\u001b[0m \u001b[32m━━━━━━━━━━━━━━━━━━━━\u001b[0m\u001b[37m\u001b[0m \u001b[1m0s\u001b[0m 5ms/step - accuracy: 0.4338 - loss: 1.7491 - val_accuracy: 0.4921 - val_loss: 1.7241\n",
            "Epoch 31/50\n",
            "\u001b[1m32/32\u001b[0m \u001b[32m━━━━━━━━━━━━━━━━━━━━\u001b[0m\u001b[37m\u001b[0m \u001b[1m0s\u001b[0m 4ms/step - accuracy: 0.4918 - loss: 1.5939 - val_accuracy: 0.5000 - val_loss: 1.6983\n",
            "Epoch 32/50\n",
            "\u001b[1m32/32\u001b[0m \u001b[32m━━━━━━━━━━━━━━━━━━━━\u001b[0m\u001b[37m\u001b[0m \u001b[1m0s\u001b[0m 5ms/step - accuracy: 0.4864 - loss: 1.6290 - val_accuracy: 0.5317 - val_loss: 1.6333\n",
            "Epoch 33/50\n",
            "\u001b[1m32/32\u001b[0m \u001b[32m━━━━━━━━━━━━━━━━━━━━\u001b[0m\u001b[37m\u001b[0m \u001b[1m0s\u001b[0m 5ms/step - accuracy: 0.5302 - loss: 1.5080 - val_accuracy: 0.5397 - val_loss: 1.5936\n",
            "Epoch 34/50\n",
            "\u001b[1m32/32\u001b[0m \u001b[32m━━━━━━━━━━━━━━━━━━━━\u001b[0m\u001b[37m\u001b[0m \u001b[1m0s\u001b[0m 5ms/step - accuracy: 0.5095 - loss: 1.5487 - val_accuracy: 0.5238 - val_loss: 1.6102\n",
            "Epoch 35/50\n",
            "\u001b[1m32/32\u001b[0m \u001b[32m━━━━━━━━━━━━━━━━━━━━\u001b[0m\u001b[37m\u001b[0m \u001b[1m0s\u001b[0m 5ms/step - accuracy: 0.5093 - loss: 1.5189 - val_accuracy: 0.5238 - val_loss: 1.5627\n",
            "Epoch 36/50\n",
            "\u001b[1m32/32\u001b[0m \u001b[32m━━━━━━━━━━━━━━━━━━━━\u001b[0m\u001b[37m\u001b[0m \u001b[1m0s\u001b[0m 5ms/step - accuracy: 0.4866 - loss: 1.5244 - val_accuracy: 0.5476 - val_loss: 1.5991\n",
            "Epoch 37/50\n",
            "\u001b[1m32/32\u001b[0m \u001b[32m━━━━━━━━━━━━━━━━━━━━\u001b[0m\u001b[37m\u001b[0m \u001b[1m0s\u001b[0m 5ms/step - accuracy: 0.4889 - loss: 1.5176 - val_accuracy: 0.5397 - val_loss: 1.5435\n",
            "Epoch 38/50\n",
            "\u001b[1m32/32\u001b[0m \u001b[32m━━━━━━━━━━━━━━━━━━━━\u001b[0m\u001b[37m\u001b[0m \u001b[1m0s\u001b[0m 5ms/step - accuracy: 0.5431 - loss: 1.4519 - val_accuracy: 0.5635 - val_loss: 1.5142\n",
            "Epoch 39/50\n",
            "\u001b[1m32/32\u001b[0m \u001b[32m━━━━━━━━━━━━━━━━━━━━\u001b[0m\u001b[37m\u001b[0m \u001b[1m0s\u001b[0m 5ms/step - accuracy: 0.5174 - loss: 1.4235 - val_accuracy: 0.5397 - val_loss: 1.4695\n",
            "Epoch 40/50\n",
            "\u001b[1m32/32\u001b[0m \u001b[32m━━━━━━━━━━━━━━━━━━━━\u001b[0m\u001b[37m\u001b[0m \u001b[1m0s\u001b[0m 8ms/step - accuracy: 0.5368 - loss: 1.3907 - val_accuracy: 0.5714 - val_loss: 1.4507\n",
            "Epoch 41/50\n",
            "\u001b[1m32/32\u001b[0m \u001b[32m━━━━━━━━━━━━━━━━━━━━\u001b[0m\u001b[37m\u001b[0m \u001b[1m0s\u001b[0m 8ms/step - accuracy: 0.5622 - loss: 1.3719 - val_accuracy: 0.5476 - val_loss: 1.4672\n",
            "Epoch 42/50\n",
            "\u001b[1m32/32\u001b[0m \u001b[32m━━━━━━━━━━━━━━━━━━━━\u001b[0m\u001b[37m\u001b[0m \u001b[1m0s\u001b[0m 8ms/step - accuracy: 0.5219 - loss: 1.3822 - val_accuracy: 0.5556 - val_loss: 1.4220\n",
            "Epoch 43/50\n",
            "\u001b[1m32/32\u001b[0m \u001b[32m━━━━━━━━━━━━━━━━━━━━\u001b[0m\u001b[37m\u001b[0m \u001b[1m0s\u001b[0m 8ms/step - accuracy: 0.5561 - loss: 1.4062 - val_accuracy: 0.5556 - val_loss: 1.4401\n",
            "Epoch 44/50\n",
            "\u001b[1m32/32\u001b[0m \u001b[32m━━━━━━━━━━━━━━━━━━━━\u001b[0m\u001b[37m\u001b[0m \u001b[1m0s\u001b[0m 7ms/step - accuracy: 0.5739 - loss: 1.3524 - val_accuracy: 0.5397 - val_loss: 1.4196\n",
            "Epoch 45/50\n",
            "\u001b[1m32/32\u001b[0m \u001b[32m━━━━━━━━━━━━━━━━━━━━\u001b[0m\u001b[37m\u001b[0m \u001b[1m0s\u001b[0m 9ms/step - accuracy: 0.5542 - loss: 1.3712 - val_accuracy: 0.5714 - val_loss: 1.3838\n",
            "Epoch 46/50\n",
            "\u001b[1m32/32\u001b[0m \u001b[32m━━━━━━━━━━━━━━━━━━━━\u001b[0m\u001b[37m\u001b[0m \u001b[1m0s\u001b[0m 8ms/step - accuracy: 0.5706 - loss: 1.2811 - val_accuracy: 0.5714 - val_loss: 1.3466\n",
            "Epoch 47/50\n",
            "\u001b[1m32/32\u001b[0m \u001b[32m━━━━━━━━━━━━━━━━━━━━\u001b[0m\u001b[37m\u001b[0m \u001b[1m0s\u001b[0m 8ms/step - accuracy: 0.6205 - loss: 1.2226 - val_accuracy: 0.5476 - val_loss: 1.3331\n",
            "Epoch 48/50\n",
            "\u001b[1m32/32\u001b[0m \u001b[32m━━━━━━━━━━━━━━━━━━━━\u001b[0m\u001b[37m\u001b[0m \u001b[1m0s\u001b[0m 6ms/step - accuracy: 0.6063 - loss: 1.2463 - val_accuracy: 0.5556 - val_loss: 1.3180\n",
            "Epoch 49/50\n",
            "\u001b[1m32/32\u001b[0m \u001b[32m━━━━━━━━━━━━━━━━━━━━\u001b[0m\u001b[37m\u001b[0m \u001b[1m0s\u001b[0m 5ms/step - accuracy: 0.5480 - loss: 1.3442 - val_accuracy: 0.5714 - val_loss: 1.2873\n",
            "Epoch 50/50\n",
            "\u001b[1m32/32\u001b[0m \u001b[32m━━━━━━━━━━━━━━━━━━━━\u001b[0m\u001b[37m\u001b[0m \u001b[1m0s\u001b[0m 5ms/step - accuracy: 0.5739 - loss: 1.2432 - val_accuracy: 0.5635 - val_loss: 1.3233\n"
          ]
        },
        {
          "output_type": "execute_result",
          "data": {
            "text/plain": [
              "<keras.src.callbacks.history.History at 0x7cc11a6208f0>"
            ]
          },
          "metadata": {},
          "execution_count": 12
        }
      ]
    },
    {
      "cell_type": "code",
      "source": [
        "def predict_disease(symptom):\n",
        "    seq = tf.keras.preprocessing.sequence.pad_sequences(tok.texts_to_sequences([symptom]), maxlen=10)\n",
        "    pred = model.predict(seq, verbose=0)\n",
        "    idx = np.argmax(pred)\n",
        "    disease_pred = le.inverse_transform([idx])[0]\n",
        "    prevention = disease_data[disease_pred]['prevention']\n",
        "    confidence = float(np.max(pred))\n",
        "    return disease_pred, prevention, confidence\n"
      ],
      "metadata": {
        "id": "lj6UCnzxRhaG"
      },
      "execution_count": 13,
      "outputs": []
    },
    {
      "cell_type": "code",
      "source": [
        "print(\"\\n Farmer Bot ready! (type 'exit')\\n\")\n",
        "while True:\n",
        "    s = input(\"Symptom: \").strip()\n",
        "    if s.lower() == 'exit':\n",
        "        break\n",
        "    disease, prevention, conf = predict_disease(s)\n",
        "    print(f\"\\nDisease: {disease}\\nPrevention/Treatment: {prevention}\\nConfidence: {conf*100:.2f}%\\n\")"
      ],
      "metadata": {
        "colab": {
          "base_uri": "https://localhost:8080/"
        },
        "id": "RDxdSpwHRpuL",
        "outputId": "453d9f67-a9b1-492d-fc03-6e66696fb7ca"
      },
      "execution_count": 14,
      "outputs": [
        {
          "name": "stdout",
          "output_type": "stream",
          "text": [
            "\n",
            " Farmer Bot ready! (type 'exit')\n",
            "\n",
            "Symptom: brown spots\n",
            "\n",
            "Disease: Tomato Blight\n",
            "Prevention/Treatment: Use resistant varieties, remove infected plants, and apply fungicide.\n",
            "Confidence: 47.13%\n",
            "\n",
            "Symptom: sunken lesions on fruit\n",
            "\n",
            "Disease: Anthracnose\n",
            "Prevention/Treatment: Remove infected plants, use resistant varieties, and apply fungicide.\n",
            "Confidence: 80.37%\n",
            "\n",
            "Symptom: red pustules on leave\n",
            "\n",
            "Disease: Wheat Stem Rust\n",
            "Prevention/Treatment: Use resistant varieties, fungicide application, rotate crops.\n",
            "Confidence: 42.32%\n",
            "\n",
            "Symptom: exit\n"
          ]
        }
      ]
    },
    {
      "cell_type": "code",
      "source": [],
      "metadata": {
        "id": "qlSHUooKRrem"
      },
      "execution_count": null,
      "outputs": []
    }
  ]
}