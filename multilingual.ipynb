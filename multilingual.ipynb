{
  "cells": [
    {
      "cell_type": "markdown",
      "metadata": {
        "id": "view-in-github",
        "colab_type": "text"
      },
      "source": [
        "<a href=\"https://colab.research.google.com/github/anika0520/Infosys_springboard-6.0-assignments/blob/main/multilingual.ipynb\" target=\"_parent\"><img src=\"https://colab.research.google.com/assets/colab-badge.svg\" alt=\"Open In Colab\"/></a>"
      ]
    },
    {
      "cell_type": "code",
      "source": [
        "!pip install scikit-learn googletrans==4.0.0-rc1 indictrans2-ai4bharat langdetect\n"
      ],
      "metadata": {
        "colab": {
          "base_uri": "https://localhost:8080/"
        },
        "id": "NOg9PILv-fY4",
        "outputId": "9a918aed-7bc6-40f8-c991-d930eccf771f"
      },
      "execution_count": 2,
      "outputs": [
        {
          "output_type": "stream",
          "name": "stdout",
          "text": [
            "Requirement already satisfied: scikit-learn in /usr/local/lib/python3.12/dist-packages (1.6.1)\n",
            "Requirement already satisfied: googletrans==4.0.0-rc1 in /usr/local/lib/python3.12/dist-packages (4.0.0rc1)\n",
            "Requirement already satisfied: indictrans2-ai4bharat in /usr/local/lib/python3.12/dist-packages (0.1.0)\n",
            "Requirement already satisfied: langdetect in /usr/local/lib/python3.12/dist-packages (1.0.9)\n",
            "Requirement already satisfied: httpx==0.13.3 in /usr/local/lib/python3.12/dist-packages (from googletrans==4.0.0-rc1) (0.13.3)\n",
            "Requirement already satisfied: certifi in /usr/local/lib/python3.12/dist-packages (from httpx==0.13.3->googletrans==4.0.0-rc1) (2025.8.3)\n",
            "Requirement already satisfied: hstspreload in /usr/local/lib/python3.12/dist-packages (from httpx==0.13.3->googletrans==4.0.0-rc1) (2025.1.1)\n",
            "Requirement already satisfied: sniffio in /usr/local/lib/python3.12/dist-packages (from httpx==0.13.3->googletrans==4.0.0-rc1) (1.3.1)\n",
            "Requirement already satisfied: chardet==3.* in /usr/local/lib/python3.12/dist-packages (from httpx==0.13.3->googletrans==4.0.0-rc1) (3.0.4)\n",
            "Requirement already satisfied: idna==2.* in /usr/local/lib/python3.12/dist-packages (from httpx==0.13.3->googletrans==4.0.0-rc1) (2.10)\n",
            "Requirement already satisfied: rfc3986<2,>=1.3 in /usr/local/lib/python3.12/dist-packages (from httpx==0.13.3->googletrans==4.0.0-rc1) (1.5.0)\n",
            "Requirement already satisfied: httpcore==0.9.* in /usr/local/lib/python3.12/dist-packages (from httpx==0.13.3->googletrans==4.0.0-rc1) (0.9.1)\n",
            "Requirement already satisfied: h11<0.10,>=0.8 in /usr/local/lib/python3.12/dist-packages (from httpcore==0.9.*->httpx==0.13.3->googletrans==4.0.0-rc1) (0.9.0)\n",
            "Requirement already satisfied: h2==3.* in /usr/local/lib/python3.12/dist-packages (from httpcore==0.9.*->httpx==0.13.3->googletrans==4.0.0-rc1) (3.2.0)\n",
            "Requirement already satisfied: hyperframe<6,>=5.2.0 in /usr/local/lib/python3.12/dist-packages (from h2==3.*->httpcore==0.9.*->httpx==0.13.3->googletrans==4.0.0-rc1) (5.2.0)\n",
            "Requirement already satisfied: hpack<4,>=3.0 in /usr/local/lib/python3.12/dist-packages (from h2==3.*->httpcore==0.9.*->httpx==0.13.3->googletrans==4.0.0-rc1) (3.0.0)\n",
            "Requirement already satisfied: numpy>=1.19.5 in /usr/local/lib/python3.12/dist-packages (from scikit-learn) (2.0.2)\n",
            "Requirement already satisfied: scipy>=1.6.0 in /usr/local/lib/python3.12/dist-packages (from scikit-learn) (1.16.2)\n",
            "Requirement already satisfied: joblib>=1.2.0 in /usr/local/lib/python3.12/dist-packages (from scikit-learn) (1.5.2)\n",
            "Requirement already satisfied: threadpoolctl>=3.1.0 in /usr/local/lib/python3.12/dist-packages (from scikit-learn) (3.6.0)\n",
            "Requirement already satisfied: requests>=2.25.1 in /usr/local/lib/python3.12/dist-packages (from indictrans2-ai4bharat) (2.32.4)\n",
            "Requirement already satisfied: typing>=3.7.4 in /usr/local/lib/python3.12/dist-packages (from indictrans2-ai4bharat) (3.7.4.3)\n",
            "Requirement already satisfied: urllib3>=1.26.0 in /usr/local/lib/python3.12/dist-packages (from indictrans2-ai4bharat) (2.5.0)\n",
            "Requirement already satisfied: six in /usr/local/lib/python3.12/dist-packages (from langdetect) (1.17.0)\n",
            "Requirement already satisfied: charset_normalizer<4,>=2 in /usr/local/lib/python3.12/dist-packages (from requests>=2.25.1->indictrans2-ai4bharat) (3.4.3)\n"
          ]
        }
      ]
    },
    {
      "cell_type": "code",
      "source": [
        "from sklearn.feature_extraction.text import TfidfVectorizer\n",
        "from sklearn.metrics.pairwise import cosine_similarity\n",
        "from indictrans2 import IndicTranslator\n",
        "from langdetect import detect\n",
        "import numpy as np"
      ],
      "metadata": {
        "id": "7DVwtW5s-glt"
      },
      "execution_count": 3,
      "outputs": []
    },
    {
      "cell_type": "code",
      "source": [
        "diseases = {\n",
        "    \"Tomato Blight\": {\n",
        "        \"symptom\": {\n",
        "            \"en\": \"brown spots on the leaves\",\n",
        "            \"hi\": \"पत्तियों पर भूरे धब्बे\",\n",
        "            \"bn\": \"পাতায় বাদামি দাগ\",\n",
        "            \"te\": \"ఆకులపై గోధుమ రంగు మచ్చలు\"\n",
        "        },\n",
        "        \"prevention\": {\n",
        "            \"en\": \"Use resistant varieties, remove infected plants, and apply fungicide.\",\n",
        "            \"hi\": \"प्रतिरोधी किस्मों का उपयोग करें, संक्रमित पौधों को हटाएं और फफूंदनाशी का उपयोग करें।\",\n",
        "            \"bn\": \"প্রতিরোধী জাত ব্যবহার করুন, আক্রান্ত গাছ অপসারণ করুন এবং ছত্রাকনাশক প্রয়োগ করুন।\",\n",
        "            \"te\": \"ప్రతిఘటించే రకాలను ఉపయోగించండి, సంక్రామిత మొక్కలను తీసివేయండి మరియు ఫంగిసైడ్ వాడండి.\"\n",
        "        }\n",
        "    },\n",
        "    \"Powdery Mildew\": {\n",
        "        \"symptom\": {\n",
        "            \"en\": \"white powdery spots on the leaves\",\n",
        "            \"hi\": \"पत्तियों पर सफेद चूर्ण जैसे धब्बे\",\n",
        "            \"bn\": \"পাতায় সাদা গুঁড়ো দাগ\",\n",
        "            \"te\": \"ఆకులపై తెల్లటి పొడి మచ్చలు\"\n",
        "        },\n",
        "        \"prevention\": {\n",
        "            \"en\": \"Ensure proper spacing, avoid overhead watering, and use fungicide.\",\n",
        "            \"hi\": \"उचित दूरी सुनिश्चित करें, ऊपर से पानी देने से बचें और फफूंदनाशी का उपयोग करें।\",\n",
        "            \"bn\": \"সঠিক দূরত্ব নিশ্চিত করুন, উপরে থেকে জল দেওয়া এড়িয়ে চলুন এবং ছত্রাকনাশক ব্যবহার করুন।\",\n",
        "            \"te\": \"సరైన దూరం ఉంచండి, పై నుండి నీరు పోయడం నివారించండి మరియు ఫంగిసైడ్ వాడండి.\"\n",
        "        }\n",
        "    },\n",
        "    \"Leaf Spot\": {\n",
        "        \"symptom\": {\n",
        "            \"en\": \"dark spots on the leaves\",\n",
        "            \"hi\": \"पत्तियों पर काले धब्बे\",\n",
        "            \"bn\": \"পাতায় কালো দাগ\",\n",
        "            \"te\": \"ఆకులపై నల్ల మచ్చలు\"\n",
        "        },\n",
        "        \"prevention\": {\n",
        "            \"en\": \"Remove infected leaves, rotate crops, and use copper-based sprays.\",\n",
        "            \"hi\": \"संक्रमित पत्ते हटाएं, फसल चक्र अपनाएं और तांबे पर आधारित स्प्रे का उपयोग करें।\",\n",
        "            \"bn\": \"আক্রান্ত পাতা সরান, ফসল আবর্তন করুন এবং তামা-ভিত্তিক স্প্রে ব্যবহার করুন।\",\n",
        "            \"te\": \"సంక్రామిత ఆకులను తీసివేయండి, పంటల మార్పిడి చేయండి మరియు రాగి స్ప్రే వాడండి.\"\n",
        "        }\n",
        "    },\n",
        "    \"Rust\": {\n",
        "        \"symptom\": {\n",
        "            \"en\": \"orange pustules on the leaves\",\n",
        "            \"hi\": \"पत्तियों पर नारंगी फफोले\",\n",
        "            \"bn\": \"পাতায় কমলা ফোসকা\",\n",
        "            \"te\": \"ఆకులపై నారింజ బుడగలు\"\n",
        "        },\n",
        "        \"prevention\": {\n",
        "            \"en\": \"Use resistant varieties, remove infected leaves, and apply fungicide.\",\n",
        "            \"hi\": \"प्रतिरोधी किस्मों का उपयोग करें, संक्रमित पत्तों को हटाएं और फफूंदनाशी का प्रयोग करें।\",\n",
        "            \"bn\": \"প্রতিরোধী জাত ব্যবহার করুন, আক্রান্ত পাতা সরান এবং ছত্রাকনাশক প্রয়োগ করুন।\",\n",
        "            \"te\": \"ప్రతిఘటించే రకాలను ఉపయోగించండి, సంక్రామిత ఆకులను తొలగించండి మరియు ఫంగిసైడ్ వాడండి.\"\n",
        "        }\n",
        "    },\n",
        "    \"Downy Mildew\": {\n",
        "        \"symptom\": {\n",
        "            \"en\": \"yellow angular spots on the leaves\",\n",
        "            \"hi\": \"पत्तियों पर पीले कोणीय धब्बे\",\n",
        "            \"bn\": \"পাতায় হলুদ কোণার দাগ\",\n",
        "            \"te\": \"ఆకులపై పసుపు మచ్చలు\"\n",
        "        },\n",
        "        \"prevention\": {\n",
        "            \"en\": \"Improve air circulation, avoid overhead watering, and use fungicide.\",\n",
        "            \"hi\": \"हवा का संचार बढ़ाएं, ऊपर से पानी देने से बचें और फफूंदनाशी का उपयोग करें।\",\n",
        "            \"bn\": \"বায়ু চলাচল বাড়ান, উপরে থেকে জল দেওয়া এড়িয়ে চলুন এবং ছত্রাকনাশক ব্যবহার করুন।\",\n",
        "            \"te\": \"గాలి ప్రవాహం మెరుగుపరచండి, పై నుండి నీరు పోయడం నివారించండి మరియు ఫంగిసైడ్ వాడండి.\"\n",
        "        }\n",
        "    },\n",
        "    \"Fusarium Wilt\": {\n",
        "        \"symptom\": {\n",
        "            \"en\": \"yellowing and wilting of the leaves\",\n",
        "            \"hi\": \"पत्तियों का पीला पड़ना और मुरझाना\",\n",
        "            \"bn\": \"পাতা হলুদ হয়ে যাওয়া এবং মুরঝিয়ে যাওয়া\",\n",
        "            \"te\": \"ఆకులు పసుపు రంగులోకి మారడం మరియు వాడిపోవడం\"\n",
        "        },\n",
        "        \"prevention\": {\n",
        "            \"en\": \"Plant resistant varieties and practice crop rotation.\",\n",
        "            \"hi\": \"प्रतिरोधी किस्मों का उपयोग करें और फसल चक्र अपनाएं।\",\n",
        "            \"bn\": \"প্রতিরোধী জাত ব্যবহার করুন এবং ফসল আবর্তন করুন।\",\n",
        "            \"te\": \"ప్రతిఘటించే రకాలను ఉపయోగించండి మరియు పంటల మార్పిడి చేయండి.\"\n",
        "        }\n",
        "    },\n",
        "    \"Bacterial Spot\": {\n",
        "        \"symptom\": {\n",
        "            \"en\": \"water-soaked lesions on the leaves\",\n",
        "            \"hi\": \"पत्तियों पर पानी से भीगे हुए धब्बे\",\n",
        "            \"bn\": \"পাতায় পানিতে ভেজা দাগ\",\n",
        "            \"te\": \"ఆకులపై నీటితో నిండి ఉన్న మచ్చలు\"\n",
        "        },\n",
        "        \"prevention\": {\n",
        "            \"en\": \"Remove infected leaves, use certified disease-free seeds, and rotate crops.\",\n",
        "            \"hi\": \"संक्रमित पत्ते हटाएं, प्रमाणित रोगमुक्त बीज का उपयोग करें और फसल चक्र अपनाएं।\",\n",
        "            \"bn\": \"আক্রান্ত পাতা সরান, শংসাপত্রপ্রাপ্ত রোগমুক্ত বীজ ব্যবহার করুন এবং ফসল আবর্তন করুন।\",\n",
        "            \"te\": \"సంక్రామిత ఆకులను తీసివేయండి, సర్టిఫైడ్ రోగరహిత బీజాలు ఉపయోగించండి మరియు పంటల మార్పిడి చేయండి.\"\n",
        "        }\n",
        "    },\n",
        "    \"Leaf Curl\": {\n",
        "        \"symptom\": {\n",
        "            \"en\": \"curling of the leaves\",\n",
        "            \"hi\": \"पत्तियों का मुड़ना\",\n",
        "            \"bn\": \"পাতা কুঁকড়ে যাওয়া\",\n",
        "            \"te\": \"ఆకులు ముడుచుకోవడం\"\n",
        "        },\n",
        "        \"prevention\": {\n",
        "            \"en\": \"Avoid overhead irrigation and use resistant varieties.\",\n",
        "            \"hi\": \"ऊपर से सिंचाई से बचें और प्रतिरोधी किस्मों का उपयोग करें।\",\n",
        "            \"bn\": \"উপর থেকে সেচ দেওয়া এড়িয়ে চলুন এবং প্রতিরোধী জাত ব্যবহার করুন।\",\n",
        "            \"te\": \"పై నుండి నీరు పోయడం నివారించండి మరియు ప్రతిఘటించే రకాలను ఉపయోగించండి.\"\n",
        "        }\n",
        "    },\n",
        "    \"Blossom End Rot\": {\n",
        "        \"symptom\": {\n",
        "            \"en\": \"black, sunken spots on the blossom end of fruit\",\n",
        "            \"hi\": \"फलों के निचले सिरे पर काले और धंसे हुए धब्बे\",\n",
        "            \"bn\": \"ফলের নিচের অংশে কালো, ধসে পড়া দাগ\",\n",
        "            \"te\": \"పండ్ల చివరలో నల్లని, లోపలికి పోయిన మచ్చలు\"\n",
        "        },\n",
        "        \"prevention\": {\n",
        "            \"en\": \"Ensure proper watering and calcium supplementation.\",\n",
        "            \"hi\": \"सही पानी की व्यवस्था और कैल्शियम का उपयोग सुनिश्चित करें।\",\n",
        "            \"bn\": \"সঠিক সেচ এবং ক্যালসিয়াম প্রদান নিশ্চিত করুন।\",\n",
        "            \"te\": \"సరైన నీటిపారుదల మరియు కాల్షియం ఇచ్చే సమర్ధన చేయండి.\"\n",
        "        }\n",
        "    },\n",
        "    \"Verticillium Wilt\": {\n",
        "        \"symptom\": {\n",
        "            \"en\": \"stunted growth and yellowing of leaves\",\n",
        "            \"hi\": \"विकास रुक जाना और पत्तों का पीला पड़ना\",\n",
        "            \"bn\": \"বৃদ্ধি বন্ধ হয়ে যাওয়া এবং পাতার হলুদ হওয়া\",\n",
        "            \"te\": \"పెరుగుదల మందగించడం మరియు ఆకులు పసుపు రంగులోకి మారడం\"\n",
        "        },\n",
        "        \"prevention\": {\n",
        "            \"en\": \"Use resistant varieties and practice crop rotation.\",\n",
        "            \"hi\": \"प्रतिरोधी किस्मों का उपयोग करें और फसल चक्र अपनाएं।\",\n",
        "            \"bn\": \"প্রতিরোধী জাত ব্যবহার করুন এবং ফসল আবর্তন করুন।\",\n",
        "            \"te\": \"ప్రతిఘటించే రకాలను ఉపయోగించండి మరియు పంటల మార్పిడి చేయండి.\"\n",
        "        }\n",
        "    }\n",
        "}"
      ],
      "metadata": {
        "id": "0DvkDXri-iDZ"
      },
      "execution_count": 4,
      "outputs": []
    },
    {
      "cell_type": "code",
      "source": [
        "translator = IndicTranslator()"
      ],
      "metadata": {
        "id": "tEh7s5oq-lEn"
      },
      "execution_count": 5,
      "outputs": []
    },
    {
      "cell_type": "code",
      "source": [
        "def get_lang(text):\n",
        "    try:\n",
        "        code = detect(text)\n",
        "        if code.startswith('hi'):\n",
        "            return 'hi'\n",
        "        elif code.startswith('bn'):\n",
        "            return 'bn'\n",
        "        elif code.startswith('te'):\n",
        "            return 'te'\n",
        "        elif code.startswith('en'):\n",
        "            return 'en'\n",
        "        else:\n",
        "            return 'en'\n",
        "    except:\n",
        "        return 'en'"
      ],
      "metadata": {
        "id": "9nkUln9fgyvA"
      },
      "execution_count": 6,
      "outputs": []
    },
    {
      "cell_type": "code",
      "source": [
        "all_symptoms = []\n",
        "symptom_map = {}\n",
        "symptom_lang = []\n",
        "\n",
        "for d, info in diseases.items():\n",
        "    for lang, s_text in info['symptom'].items():\n",
        "        all_symptoms.append(s_text)\n",
        "        symptom_map[s_text] = d\n",
        "        symptom_lang.append(lang)"
      ],
      "metadata": {
        "id": "3MFueBf4g1ST"
      },
      "execution_count": 7,
      "outputs": []
    },
    {
      "cell_type": "code",
      "source": [
        "vectorizer = TfidfVectorizer()\n",
        "X = vectorizer.fit_transform(all_symptoms)"
      ],
      "metadata": {
        "id": "EF022Cpgg-bK"
      },
      "execution_count": 8,
      "outputs": []
    },
    {
      "cell_type": "code",
      "source": [
        "def translate_text(text, src, tgt):\n",
        "    if src == tgt:\n",
        "        return text\n",
        "    try:\n",
        "        result = translator.translate(text, source_lang=src, target_lang=tgt)\n",
        "        if isinstance(result, list):\n",
        "            return result[0]\n",
        "        return result\n",
        "    except:\n",
        "        return text"
      ],
      "metadata": {
        "id": "keNoKqGUhAOf"
      },
      "execution_count": 9,
      "outputs": []
    },
    {
      "cell_type": "code",
      "source": [
        "def find_disease(user_input, out_lang):\n",
        "    user_lang = get_lang(user_input)\n",
        "    user_input_en = translate_text(user_input, user_lang, 'en')\n",
        "\n",
        "    global all_symptoms_en, vec_en, X_en\n",
        "    if 'X_en' not in globals():\n",
        "        all_symptoms_en = [translate_text(s, l, 'en') for s, l in zip(all_symptoms, symptom_lang)]\n",
        "        vec_en = TfidfVectorizer()\n",
        "        X_en = vec_en.fit_transform(all_symptoms_en)\n",
        "\n",
        "    input_vec = vec_en.transform([user_input_en])\n",
        "    scores = cosine_similarity(input_vec, X_en)[0]\n",
        "\n",
        "    idx = np.argmax(scores)\n",
        "    conf = scores[idx]\n",
        "\n",
        "    matched_en = all_symptoms_en[idx]\n",
        "    matched_orig = all_symptoms[idx]\n",
        "    disease_name = symptom_map[matched_orig]\n",
        "\n",
        "    disease_out = translate_text(disease_name, 'en', out_lang)\n",
        "\n",
        "    prevent_texts = diseases[disease_name]['prevention']\n",
        "    prevent = prevent_texts.get(out_lang, prevent_texts.get('en', 'No info '))\n",
        "    if out_lang != 'en' and out_lang not in prevent_texts:\n",
        "        prevent = translate_text(prevent, 'en', out_lang)\n",
        "\n",
        "    return disease_out, prevent, conf"
      ],
      "metadata": {
        "id": "qNL20hSQhG84"
      },
      "execution_count": 58,
      "outputs": []
    },
    {
      "cell_type": "code",
      "source": [
        "lang_msg = {\n",
        "    'en': \"Choose language: 1. English, 2. Hindi, 3. Bengali, 4. Telugu: \",\n",
        "    'hi': \"भाषा चुनें: 1. English, 2. Hindi, 3. Bengali, 4. Telugu: \",\n",
        "    'bn': \"ভাষা নির্বাচন করুন: 1. English, 2. Hindi, 3. Bengali, 4. Telugu: \",\n",
        "    'te': \"భాషను ఎంచుకోండి: 1. English, 2. Hindi, 3. Bengali, 4. Telugu: \"\n",
        "}"
      ],
      "metadata": {
        "id": "C_EFAYHahHLD"
      },
      "execution_count": 59,
      "outputs": []
    },
    {
      "cell_type": "code",
      "source": [
        "labels = {\n",
        "    'en': {'disease': \"Disease:\", 'prevention': \"Prevention:\", 'conf': \"Confidence:\"},\n",
        "    'hi': {'disease': \"रोग:\", 'prevention': \"रोकथाम:\", 'conf': \"विश्वास:\"},\n",
        "    'bn': {'disease': \"রোগ:\", 'prevention': \"প্রতিরোধ:\", 'conf': \"আত্মবিশ্বাস:\"},\n",
        "    'te': {'disease': \"రోగం:\", 'prevention': \"నివారణ:\", 'conf': \"నమ్మకం:\"}\n",
        "}"
      ],
      "metadata": {
        "id": "LrL0N0uFhJzJ"
      },
      "execution_count": 60,
      "outputs": []
    },
    {
      "cell_type": "code",
      "source": [
        "print(\"\\nFarmer Bot ready! Type 'exit' to quit.\\n\")\n"
      ],
      "metadata": {
        "colab": {
          "base_uri": "https://localhost:8080/"
        },
        "id": "Kd3JhvYThLv_",
        "outputId": "c89500f7-ed33-4e03-b461-a74f8d1acf39"
      },
      "execution_count": 61,
      "outputs": [
        {
          "output_type": "stream",
          "name": "stdout",
          "text": [
            "\n",
            "Farmer Bot ready! Type 'exit' to quit.\n",
            "\n"
          ]
        }
      ]
    },
    {
      "cell_type": "code",
      "source": [
        "chosen_lang = 'en'\n",
        "lang_choice = input(lang_msg['en']).strip()\n"
      ],
      "metadata": {
        "colab": {
          "base_uri": "https://localhost:8080/"
        },
        "id": "rVA2wFL5hNsB",
        "outputId": "43ce963c-b870-4092-9385-103428d85ddc"
      },
      "execution_count": 75,
      "outputs": [
        {
          "name": "stdout",
          "output_type": "stream",
          "text": [
            "Choose language: 1. English, 2. Hindi, 3. Bengali, 4. Telugu: 2\n"
          ]
        }
      ]
    },
    {
      "cell_type": "code",
      "source": [
        "lang_map = {'1': 'en', '2': 'hi', '3': 'bn', '4': 'te'}\n",
        "if lang_choice in lang_map:\n",
        "    chosen_lang = lang_map[lang_choice]\n",
        "else:\n",
        "    print(\"Invalid choice. Defaulting to English.\")\n"
      ],
      "metadata": {
        "id": "aK2HjubihQwJ"
      },
      "execution_count": 76,
      "outputs": []
    },
    {
      "cell_type": "code",
      "source": [
        "symptom_msg = {\n",
        "    'en': \"Enter plant symptom: \",\n",
        "    'hi': \"पौधे का लक्षण दर्ज करें: \",\n",
        "    'bn': \"উদ্ভিদের লক্ষণ লিখুন: \",\n",
        "    'te': \"మొక్క లక్షణాన్ని ఎంటర్ చేయండి: \"\n",
        "}"
      ],
      "metadata": {
        "id": "l7Nok-RNhTEB"
      },
      "execution_count": 77,
      "outputs": []
    },
    {
      "cell_type": "code",
      "source": [
        "while True:\n",
        "    text = input(symptom_msg[chosen_lang]).strip()\n",
        "    if text.lower() == 'exit':\n",
        "        break\n",
        "\n",
        "    disease, prevent, conf = find_disease(text, chosen_lang)\n",
        "    lbl = labels[chosen_lang]\n",
        "\n",
        "    print(f\"\\n{lbl['disease']} {disease}\")\n",
        "    print(f\"{lbl['prevention']} {prevent}\")"
      ],
      "metadata": {
        "colab": {
          "base_uri": "https://localhost:8080/"
        },
        "id": "pz3xKk0fhVKP",
        "outputId": "dabf2e1a-df90-4889-d3f0-4d31cea5cd7e"
      },
      "execution_count": 78,
      "outputs": [
        {
          "name": "stdout",
          "output_type": "stream",
          "text": [
            "पौधे का लक्षण दर्ज करें: पत्तों में जीवाणुओं के धब्बे हैं\n",
            "\n",
            "रोग: लीफ कर्ल\n",
            "रोकथाम: ऊपर से सिंचाई से बचें और प्रतिरोधी किस्मों का उपयोग करें।\n",
            "पौधे का लक्षण दर्ज करें: exit\n"
          ]
        }
      ]
    },
    {
      "cell_type": "code",
      "source": [],
      "metadata": {
        "id": "ouDPKJQ-hXTm"
      },
      "execution_count": null,
      "outputs": []
    }
  ],
  "metadata": {
    "colab": {
      "provenance": [],
      "authorship_tag": "ABX9TyNvJxnuLEVFho78nGMegglv",
      "include_colab_link": true
    },
    "kernelspec": {
      "display_name": "Python 3",
      "name": "python3"
    },
    "language_info": {
      "name": "python"
    }
  },
  "nbformat": 4,
  "nbformat_minor": 0
}